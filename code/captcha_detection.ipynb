{
 "cells": [
  {
   "cell_type": "markdown",
   "metadata": {},
   "source": [
    "## CAPTCHA Detection\n",
    "\n",
    "### Goal of the script:\n",
    "- Load and Preprocess the image for training, and evaluating the model.\n",
    "- Load the pre-train model resnet-18, and train it for OCR-task.\n",
    "- Evaluate the model."
   ]
  },
  {
   "cell_type": "code",
   "execution_count": 1,
   "metadata": {},
   "outputs": [],
   "source": [
    "import os\n",
    "import numpy as np\n",
    "import pandas as pd\n",
    "import matplotlib.pyplot as plt\n",
    "\n",
    "import torch\n",
    "import torch.nn as nn\n",
    "import torch.nn.functional as F\n",
    "import torch.optim as optim\n",
    "\n",
    "from PIL import Image\n",
    "\n",
    "from sklearn.model_selection import train_test_split\n",
    "from sklearn.metrics import accuracy_score\n",
    "\n",
    "from torch.utils.data import Dataset, DataLoader\n",
    "\n",
    "from torchvision import transforms\n",
    "from torchvision.models.resnet import ResNet18_Weights\n",
    "from torchvision import models\n",
    "\n",
    "from torchsummary import summary as model_summary"
   ]
  },
  {
   "cell_type": "markdown",
   "metadata": {},
   "source": [
    "### Load, and Preporcess Images"
   ]
  },
  {
   "cell_type": "markdown",
   "metadata": {},
   "source": [
    "#### Load the dataset"
   ]
  },
  {
   "cell_type": "code",
   "execution_count": 2,
   "metadata": {},
   "outputs": [
    {
     "name": "stdout",
     "output_type": "stream",
     "text": [
      "Total Number of Image: 1070\n",
      "All image consists: [5] alpha-numeric characters\n"
     ]
    }
   ],
   "source": [
    "# Set the data drirectory\n",
    "data_path = \"../dataset/samples\"\n",
    "\n",
    "# Load the image directory\n",
    "images = os.listdir(data_path)\n",
    "\n",
    "print(f'Total Number of Image: {len(images)}')\n",
    "print(f'All image consists: {np.unique([len(image_fn.split(\".\")[0]) for image_fn in images])} alpha-numeric characters')"
   ]
  },
  {
   "cell_type": "markdown",
   "metadata": {},
   "source": [
    "#### Get the lables from the images"
   ]
  },
  {
   "cell_type": "code",
   "execution_count": 3,
   "metadata": {},
   "outputs": [
    {
     "name": "stdout",
     "output_type": "stream",
     "text": [
      "Number of Unique Characters: 19\n",
      "All unique characters: ['2', '3', '4', '5', '6', '7', '8', 'b', 'c', 'd', 'e', 'f', 'g', 'm', 'n', 'p', 'w', 'x', 'y']\n"
     ]
    }
   ],
   "source": [
    "# Get all the lable of the images\n",
    "lables = [label.split(\".\")[0] for label in images]\n",
    "\n",
    "# Make a long string containing all strings\n",
    "all_lables = ''.join(lables)\n",
    "\n",
    "# Get all the unique characters \n",
    "unique_characters = sorted(list(set(all_lables)))\n",
    "\n",
    "print(f'Number of Unique Characters: {len(unique_characters)}')\n",
    "print(f'All unique characters: {unique_characters}')"
   ]
  },
  {
   "cell_type": "markdown",
   "metadata": {},
   "source": [
    "#### Create the vocabulary from the characters of the lables"
   ]
  },
  {
   "cell_type": "code",
   "execution_count": 4,
   "metadata": {},
   "outputs": [
    {
     "name": "stdout",
     "output_type": "stream",
     "text": [
      "Total Number of Vocabulary: 20\n",
      "All Vocabulary: ['-', '2', '3', '4', '5', '6', '7', '8', 'b', 'c', 'd', 'e', 'f', 'g', 'm', 'n', 'p', 'w', 'x', 'y']\n"
     ]
    }
   ],
   "source": [
    "# Add a specfic character in the vocabulary\n",
    "vocabulary = [\"-\"] + unique_characters\n",
    "num_of_char = len(vocabulary)\n",
    "\n",
    "print(f'Total Number of Vocabulary: {num_of_char}')\n",
    "print(f'All Vocabulary: {vocabulary}')"
   ]
  },
  {
   "cell_type": "code",
   "execution_count": 5,
   "metadata": {},
   "outputs": [
    {
     "name": "stdout",
     "output_type": "stream",
     "text": [
      "Character to Index: {'-': 0, '2': 1, '3': 2, '4': 3, '5': 4, '6': 5, '7': 6, '8': 7, 'b': 8, 'c': 9, 'd': 10, 'e': 11, 'f': 12, 'g': 13, 'm': 14, 'n': 15, 'p': 16, 'w': 17, 'x': 18, 'y': 19}\n",
      "Index to Character: {0: '-', 1: '2', 2: '3', 3: '4', 4: '5', 5: '6', 6: '7', 7: '8', 8: 'b', 9: 'c', 10: 'd', 11: 'e', 12: 'f', 13: 'g', 14: 'm', 15: 'n', 16: 'p', 17: 'w', 18: 'x', 19: 'y'}\n"
     ]
    }
   ],
   "source": [
    "# Map of the characters and their index\n",
    "idx2char = {k:v for k,v in enumerate(vocabulary, start=0)}\n",
    "char2idx = {v:k for k,v in idx2char.items()}\n",
    "\n",
    "print(f'Character to Index: {char2idx}')\n",
    "print(f'Index to Character: {idx2char}')"
   ]
  },
  {
   "cell_type": "markdown",
   "metadata": {},
   "source": [
    "#### Split the dataset into 3 chunks: training (80%), validation (10%), and test (10%)"
   ]
  },
  {
   "cell_type": "code",
   "execution_count": 6,
   "metadata": {},
   "outputs": [
    {
     "name": "stdout",
     "output_type": "stream",
     "text": [
      "Number of Train set size: 855\n",
      "Number of Validation set size: 108\n",
      "Number of Test set size: 107\n"
     ]
    }
   ],
   "source": [
    "# First split: separate out the test set\n",
    "image_train_val, image_test = train_test_split(images, test_size=0.10, random_state=0)\n",
    "\n",
    "# Second split: split the remaining data into train and validation sets\n",
    "image_train, image_val = train_test_split(image_train_val, test_size=0.10 / 0.90, random_state=0)\n",
    "\n",
    "print(f\"Number of Train set size: {len(image_train)}\")\n",
    "print(f\"Number of Validation set size: {len(image_val)}\")\n",
    "print(f\"Number of Test set size: {len(image_test)}\")"
   ]
  },
  {
   "cell_type": "markdown",
   "metadata": {},
   "source": [
    "#### Set the image size and also Initialize the device (GPU)"
   ]
  },
  {
   "cell_type": "code",
   "execution_count": 7,
   "metadata": {},
   "outputs": [
    {
     "name": "stdout",
     "output_type": "stream",
     "text": [
      "cuda\n"
     ]
    }
   ],
   "source": [
    "# Setup the height and width of the image\n",
    "image_height = 50\n",
    "image_width = 200\n",
    "\n",
    "# Set up the batch size and device\n",
    "batch_size = 16\n",
    "\n",
    "# Check if GPU is available and set the device accordingly\n",
    "device = torch.device(\"cuda\" if torch.cuda.is_available() else \"cpu\")\n",
    "\n",
    "print(device)"
   ]
  },
  {
   "cell_type": "markdown",
   "metadata": {},
   "source": [
    "#### Create the Custom Dataset for making data-loader"
   ]
  },
  {
   "cell_type": "code",
   "execution_count": 8,
   "metadata": {},
   "outputs": [],
   "source": [
    "# Custom CAPTCHA Dataset Creator \n",
    "class CAPTCHADataset(Dataset):\n",
    "    \n",
    "    def __init__(self, data_dir, images):\n",
    "        self.data_dir = data_dir\n",
    "        self.image_fns = images\n",
    "        \n",
    "    def __len__(self):\n",
    "        return len(self.image_fns)\n",
    "    \n",
    "    def __getitem__(self, index):\n",
    "        image_fn = self.image_fns[index]\n",
    "        image_fp = os.path.join(self.data_dir, image_fn)\n",
    "        image = Image.open(image_fp).convert('RGB')\n",
    "        image = self.transform(image)\n",
    "        text = image_fn.split(\".\")[0]\n",
    "        return image, text\n",
    "    \n",
    "    def transform(self, image):\n",
    "        \n",
    "        transform_ops = transforms.Compose([\n",
    "            transforms.ToTensor(),\n",
    "            transforms.Normalize(mean=(0.485, 0.456, 0.406), std=(0.229, 0.224, 0.225))\n",
    "        ])\n",
    "        \n",
    "        return transform_ops(image)"
   ]
  },
  {
   "cell_type": "markdown",
   "metadata": {},
   "source": [
    "#### Create the Data Loader for processing the model"
   ]
  },
  {
   "cell_type": "code",
   "execution_count": 9,
   "metadata": {},
   "outputs": [
    {
     "name": "stdout",
     "output_type": "stream",
     "text": [
      "Length of Train Loader: 54\n",
      "Length of Test Loader: 7\n",
      "Length of Test Loader: 7\n"
     ]
    }
   ],
   "source": [
    "# Make the train, validation, and test dataloader \n",
    "\n",
    "train_set = CAPTCHADataset(data_path, image_train) \n",
    "validation_set = CAPTCHADataset(data_path, image_val) \n",
    "test_set = CAPTCHADataset(data_path, image_test)\n",
    "\n",
    "train_loader = DataLoader(train_set, batch_size = batch_size, num_workers = 0, shuffle=True)\n",
    "validation_loader = DataLoader(validation_set, batch_size = batch_size, num_workers = 0, shuffle=True)\n",
    "test_loader = DataLoader(test_set, batch_size = batch_size, num_workers = 0, shuffle=False)\n",
    "\n",
    "print(f'Length of Train Loader: {len(train_loader)}')\n",
    "print(f'Length of Test Loader: {len(validation_loader)}')\n",
    "print(f'Length of Test Loader: {len(test_loader)}')"
   ]
  },
  {
   "cell_type": "code",
   "execution_count": 10,
   "metadata": {},
   "outputs": [
    {
     "name": "stdout",
     "output_type": "stream",
     "text": [
      "torch.Size([16, 3, 50, 200]) ('c482b', 'bc8nf', 'wnmyn', 'b4ncn', 'wm746', '8gf7n', 'xcf88', 'm22e3', '6wnyc', 'bw6n6', 'xyyyw', '2nx38', '5n245', 'x4pnp', 'gnc3n', '6cm6m')\n"
     ]
    }
   ],
   "source": [
    "# Test the loader \n",
    "image_batch, text_batch = next(iter(train_loader))\n",
    "print(image_batch.size(), text_batch)"
   ]
  },
  {
   "cell_type": "markdown",
   "metadata": {},
   "source": [
    "#### Load the pre-train restnet-18 model"
   ]
  },
  {
   "cell_type": "code",
   "execution_count": 11,
   "metadata": {},
   "outputs": [],
   "source": [
    "# Load a pretrained ResNet-18 model with updated 'weights' parameter\n",
    "weights = ResNet18_Weights.DEFAULT\n",
    "resnet = models.resnet18(weights=weights)"
   ]
  },
  {
   "cell_type": "markdown",
   "metadata": {},
   "source": [
    "#### Architecture of the custom model"
   ]
  },
  {
   "cell_type": "code",
   "execution_count": 12,
   "metadata": {},
   "outputs": [],
   "source": [
    "# CNN model Architecture \n",
    "\n",
    "class CRNN(nn.Module):\n",
    "    \n",
    "    def __init__(self, num_chars, rnn_hidden_size, dropout=0.1):\n",
    "        \n",
    "        super(CRNN, self).__init__()\n",
    "        self.num_chars = num_chars\n",
    "        self.rnn_hidden_size = rnn_hidden_size\n",
    "        self.dropout = dropout\n",
    "        \n",
    "        # CNN Part 1\n",
    "        resnet_modules = list(resnet.children())[:-3]\n",
    "        self.cnn_p1 = nn.Sequential(*resnet_modules)\n",
    "        \n",
    "        # CNN Part 2\n",
    "        self.cnn_p2 = nn.Sequential(\n",
    "            nn.Conv2d(256, 256, kernel_size = (3,6), stride = 1, padding = 1),\n",
    "            nn.BatchNorm2d(256),\n",
    "            nn.ReLU(inplace = True)\n",
    "        )\n",
    "        self.linear1 = nn.Linear(1024, 256)\n",
    "        \n",
    "        # RNN\n",
    "        self.rnn1 = nn.GRU(input_size = rnn_hidden_size, \n",
    "                            hidden_size = rnn_hidden_size,\n",
    "                            bidirectional = True, \n",
    "                            batch_first = True)\n",
    "        self.rnn2 = nn.GRU(input_size = rnn_hidden_size, \n",
    "                            hidden_size = rnn_hidden_size,\n",
    "                            bidirectional = True, \n",
    "                            batch_first = True)\n",
    "        \n",
    "        self.linear2 = nn.Linear(self.rnn_hidden_size * 2, num_chars)\n",
    "        \n",
    "        \n",
    "    def forward(self, batch):\n",
    "        \n",
    "        batch = self.cnn_p1(batch)\n",
    "        \n",
    "        batch = self.cnn_p2(batch) \n",
    "        \n",
    "        batch = batch.permute(0, 3, 1, 2)\n",
    "         \n",
    "        batch_size = batch.size(0)\n",
    "        T = batch.size(1)\n",
    "        batch = batch.view(batch_size, T, -1) \n",
    "\n",
    "        batch = self.linear1(batch)\n",
    "        \n",
    "        batch, hidden = self.rnn1(batch)\n",
    "        feature_size = batch.size(2)\n",
    "        batch = batch[:, :, :feature_size//2] + batch[:, :, feature_size//2:]\n",
    "      \n",
    "        batch, hidden = self.rnn2(batch)\n",
    "        \n",
    "        batch = self.linear2(batch)\n",
    "        \n",
    "        batch = batch.permute(1, 0, 2) \n",
    "        \n",
    "        return batch"
   ]
  },
  {
   "cell_type": "code",
   "execution_count": 13,
   "metadata": {},
   "outputs": [],
   "source": [
    "# Weight initialization \n",
    "\n",
    "def weights_init(m):\n",
    "    classname = m.__class__.__name__\n",
    "    if type(m) in [nn.Linear, nn.Conv2d, nn.Conv1d]:\n",
    "        torch.nn.init.xavier_uniform_(m.weight)\n",
    "        if m.bias is not None:\n",
    "            m.bias.data.fill_(0.01)\n",
    "            \n",
    "    elif classname.find('BatchNorm') != -1:\n",
    "        m.weight.data.normal_(1.0, 0.02)\n",
    "        m.bias.data.fill_(0)"
   ]
  },
  {
   "cell_type": "markdown",
   "metadata": {},
   "source": [
    "#### Load the CNN model"
   ]
  },
  {
   "cell_type": "code",
   "execution_count": 14,
   "metadata": {},
   "outputs": [],
   "source": [
    "# Set the hidden size of the RNN\n",
    "rnn_hidden_size = 256"
   ]
  },
  {
   "cell_type": "code",
   "execution_count": 15,
   "metadata": {},
   "outputs": [],
   "source": [
    "# Model Intialzation \n",
    "\n",
    "crnn = CRNN(num_of_char, rnn_hidden_size)\n",
    "crnn.apply(weights_init)\n",
    "crnn = crnn.to(device)"
   ]
  },
  {
   "cell_type": "code",
   "execution_count": 16,
   "metadata": {},
   "outputs": [
    {
     "name": "stdout",
     "output_type": "stream",
     "text": [
      "----------------------------------------------------------------\n",
      "        Layer (type)               Output Shape         Param #\n",
      "================================================================\n",
      "            Conv2d-1          [-1, 64, 25, 100]           9,408\n",
      "       BatchNorm2d-2          [-1, 64, 25, 100]             128\n",
      "              ReLU-3          [-1, 64, 25, 100]               0\n",
      "         MaxPool2d-4           [-1, 64, 13, 50]               0\n",
      "            Conv2d-5           [-1, 64, 13, 50]          36,864\n",
      "       BatchNorm2d-6           [-1, 64, 13, 50]             128\n",
      "              ReLU-7           [-1, 64, 13, 50]               0\n",
      "            Conv2d-8           [-1, 64, 13, 50]          36,864\n",
      "       BatchNorm2d-9           [-1, 64, 13, 50]             128\n",
      "             ReLU-10           [-1, 64, 13, 50]               0\n",
      "       BasicBlock-11           [-1, 64, 13, 50]               0\n",
      "           Conv2d-12           [-1, 64, 13, 50]          36,864\n",
      "      BatchNorm2d-13           [-1, 64, 13, 50]             128\n",
      "             ReLU-14           [-1, 64, 13, 50]               0\n",
      "           Conv2d-15           [-1, 64, 13, 50]          36,864\n",
      "      BatchNorm2d-16           [-1, 64, 13, 50]             128\n",
      "             ReLU-17           [-1, 64, 13, 50]               0\n",
      "       BasicBlock-18           [-1, 64, 13, 50]               0\n",
      "           Conv2d-19           [-1, 128, 7, 25]          73,728\n",
      "      BatchNorm2d-20           [-1, 128, 7, 25]             256\n",
      "             ReLU-21           [-1, 128, 7, 25]               0\n",
      "           Conv2d-22           [-1, 128, 7, 25]         147,456\n",
      "      BatchNorm2d-23           [-1, 128, 7, 25]             256\n",
      "           Conv2d-24           [-1, 128, 7, 25]           8,192\n",
      "      BatchNorm2d-25           [-1, 128, 7, 25]             256\n",
      "             ReLU-26           [-1, 128, 7, 25]               0\n",
      "       BasicBlock-27           [-1, 128, 7, 25]               0\n",
      "           Conv2d-28           [-1, 128, 7, 25]         147,456\n",
      "      BatchNorm2d-29           [-1, 128, 7, 25]             256\n",
      "             ReLU-30           [-1, 128, 7, 25]               0\n",
      "           Conv2d-31           [-1, 128, 7, 25]         147,456\n",
      "      BatchNorm2d-32           [-1, 128, 7, 25]             256\n",
      "             ReLU-33           [-1, 128, 7, 25]               0\n",
      "       BasicBlock-34           [-1, 128, 7, 25]               0\n",
      "           Conv2d-35           [-1, 256, 4, 13]         294,912\n",
      "      BatchNorm2d-36           [-1, 256, 4, 13]             512\n",
      "             ReLU-37           [-1, 256, 4, 13]               0\n",
      "           Conv2d-38           [-1, 256, 4, 13]         589,824\n",
      "      BatchNorm2d-39           [-1, 256, 4, 13]             512\n",
      "           Conv2d-40           [-1, 256, 4, 13]          32,768\n",
      "      BatchNorm2d-41           [-1, 256, 4, 13]             512\n",
      "             ReLU-42           [-1, 256, 4, 13]               0\n",
      "       BasicBlock-43           [-1, 256, 4, 13]               0\n",
      "           Conv2d-44           [-1, 256, 4, 13]         589,824\n",
      "      BatchNorm2d-45           [-1, 256, 4, 13]             512\n",
      "             ReLU-46           [-1, 256, 4, 13]               0\n",
      "           Conv2d-47           [-1, 256, 4, 13]         589,824\n",
      "      BatchNorm2d-48           [-1, 256, 4, 13]             512\n",
      "             ReLU-49           [-1, 256, 4, 13]               0\n",
      "       BasicBlock-50           [-1, 256, 4, 13]               0\n",
      "           Conv2d-51           [-1, 256, 4, 10]       1,179,904\n",
      "      BatchNorm2d-52           [-1, 256, 4, 10]             512\n",
      "             ReLU-53           [-1, 256, 4, 10]               0\n",
      "           Linear-54              [-1, 10, 256]         262,400\n",
      "              GRU-55  [[-1, 10, 512], [-1, 2, 256]]               0\n",
      "              GRU-56  [[-1, 10, 512], [-1, 2, 256]]               0\n",
      "           Linear-57               [-1, 10, 20]          10,260\n",
      "================================================================\n",
      "Total params: 4,235,860\n",
      "Trainable params: 4,235,860\n",
      "Non-trainable params: 0\n",
      "----------------------------------------------------------------\n",
      "Input size (MB): 0.11\n",
      "Forward/backward pass size (MB): 26.96\n",
      "Params size (MB): 16.16\n",
      "Estimated Total Size (MB): 43.24\n",
      "----------------------------------------------------------------\n"
     ]
    }
   ],
   "source": [
    "# Summary of the model\n",
    "\n",
    "model_summary(crnn, input_size=(3, image_height, image_width))"
   ]
  },
  {
   "cell_type": "markdown",
   "metadata": {},
   "source": [
    "#### Define custom function for Encoding and Decoding: plain text <====> model input/output"
   ]
  },
  {
   "cell_type": "code",
   "execution_count": 17,
   "metadata": {},
   "outputs": [],
   "source": [
    "# Encode the text to tensor input\n",
    "\n",
    "def encode_text_batch(text_batch):\n",
    "    \n",
    "    text_batch_targets_lens = [len(text) for text in text_batch]\n",
    "    text_batch_targets_lens = torch.IntTensor(text_batch_targets_lens)\n",
    "    \n",
    "    text_batch_concat = \"\".join(text_batch)\n",
    "    text_batch_targets = [char2idx[c] for c in text_batch_concat]\n",
    "    text_batch_targets = torch.IntTensor(text_batch_targets)\n",
    "    \n",
    "    return text_batch_targets, text_batch_targets_lens"
   ]
  },
  {
   "cell_type": "code",
   "execution_count": 18,
   "metadata": {},
   "outputs": [],
   "source": [
    "# Decode the original label\n",
    "def decode_predictions(text_batch_logits):\n",
    "\n",
    "    text_batch_tokens = F.softmax(text_batch_logits, 2).argmax(2) # [T, batch_size]\n",
    "    text_batch_tokens = text_batch_tokens.numpy().T # [batch_size, T]\n",
    "\n",
    "    decoded_tokens = []\n",
    "    for text_tokens in text_batch_tokens:\n",
    "        text = [idx2char[idx] for idx in text_tokens]\n",
    "        text = \"\".join(text)\n",
    "        decoded_tokens.append(text)\n",
    "\n",
    "    return decoded_tokens"
   ]
  },
  {
   "cell_type": "markdown",
   "metadata": {},
   "source": [
    "#### Define the Loss function for OCR"
   ]
  },
  {
   "cell_type": "code",
   "execution_count": 19,
   "metadata": {},
   "outputs": [],
   "source": [
    "# Defining Loss function\n",
    "criterion = nn.CTCLoss(blank=0)\n",
    "\n",
    "def compute_loss(text_batch, text_batch_logits):\n",
    "    \n",
    "    text_batch_logps = F.log_softmax(text_batch_logits, 2) \n",
    "    \n",
    "    text_batch_logps_lens = torch.full(size=(text_batch_logps.size(1),), \n",
    "                                       fill_value=text_batch_logps.size(0), \n",
    "                                       dtype=torch.int32).to(device) \n",
    "    \n",
    "    text_batch_targets, text_batch_targets_lens = encode_text_batch(text_batch)\n",
    "    loss = criterion(text_batch_logps, text_batch_targets, text_batch_logps_lens, text_batch_targets_lens)\n",
    "\n",
    "    return loss"
   ]
  },
  {
   "cell_type": "markdown",
   "metadata": {},
   "source": [
    "#### Set model's hyper-parameters"
   ]
  },
  {
   "cell_type": "code",
   "execution_count": 20,
   "metadata": {},
   "outputs": [],
   "source": [
    "# Set up hyperparameter \n",
    "\n",
    "num_epochs = 50\n",
    "learning_rate = 0.001\n",
    "weight_decay = 1e-3\n",
    "clip_norm = 5"
   ]
  },
  {
   "cell_type": "code",
   "execution_count": 21,
   "metadata": {},
   "outputs": [],
   "source": [
    "# Setup optimizaer and learning scheduler \n",
    "\n",
    "optimizer = optim.Adam(crnn.parameters(), lr = learning_rate, weight_decay = weight_decay)\n",
    "lr_scheduler = optim.lr_scheduler.ReduceLROnPlateau(optimizer, verbose = True, patience = 5)"
   ]
  },
  {
   "cell_type": "markdown",
   "metadata": {},
   "source": [
    "#### Run the model"
   ]
  },
  {
   "cell_type": "code",
   "execution_count": 22,
   "metadata": {},
   "outputs": [
    {
     "name": "stdout",
     "output_type": "stream",
     "text": [
      "Epoch: 1/50    Training Loss: 3.5036    Validation Loss: 3.5503\n",
      "Epoch: 2/50    Training Loss: 2.7231    Validation Loss: 3.4158\n",
      "Epoch: 3/50    Training Loss: 1.9224    Validation Loss: 1.7867\n",
      "Epoch: 4/50    Training Loss: 1.1680    Validation Loss: 1.0631\n",
      "Epoch: 5/50    Training Loss: 0.6848    Validation Loss: 0.7778\n",
      "Epoch: 6/50    Training Loss: 0.4347    Validation Loss: 0.4519\n",
      "Epoch: 7/50    Training Loss: 0.2914    Validation Loss: 0.6044\n",
      "Epoch: 8/50    Training Loss: 0.2698    Validation Loss: 0.3579\n",
      "Epoch: 9/50    Training Loss: 0.2037    Validation Loss: 0.3038\n",
      "Epoch: 10/50    Training Loss: 0.1794    Validation Loss: 0.3760\n",
      "Epoch: 11/50    Training Loss: 0.1609    Validation Loss: 0.5930\n",
      "Epoch: 12/50    Training Loss: 0.2088    Validation Loss: 0.6099\n",
      "Epoch: 13/50    Training Loss: 0.2258    Validation Loss: 0.2922\n",
      "Epoch: 14/50    Training Loss: 0.1627    Validation Loss: 0.3940\n",
      "Epoch: 15/50    Training Loss: 0.0982    Validation Loss: 0.2783\n",
      "Epoch: 16/50    Training Loss: 0.1035    Validation Loss: 0.2945\n",
      "Epoch: 17/50    Training Loss: 0.0754    Validation Loss: 0.2488\n",
      "Epoch: 18/50    Training Loss: 0.1068    Validation Loss: 0.3763\n",
      "Epoch: 19/50    Training Loss: 0.1293    Validation Loss: 0.3244\n",
      "Epoch: 20/50    Training Loss: 0.1945    Validation Loss: 0.3734\n",
      "Epoch: 21/50    Training Loss: 0.0892    Validation Loss: 0.2323\n",
      "Epoch: 22/50    Training Loss: 0.1225    Validation Loss: 0.2958\n",
      "Epoch: 23/50    Training Loss: 0.0787    Validation Loss: 0.3007\n",
      "Epoch 00023: reducing learning rate of group 0 to 1.0000e-04.\n",
      "Epoch: 24/50    Training Loss: 0.0388    Validation Loss: 0.1394\n",
      "Epoch: 25/50    Training Loss: 0.0174    Validation Loss: 0.1361\n",
      "Epoch: 26/50    Training Loss: 0.0139    Validation Loss: 0.1406\n",
      "Epoch: 27/50    Training Loss: 0.0116    Validation Loss: 0.1458\n",
      "Epoch: 28/50    Training Loss: 0.0106    Validation Loss: 0.1399\n",
      "Epoch: 29/50    Training Loss: 0.0104    Validation Loss: 0.1444\n",
      "Epoch: 30/50    Training Loss: 0.0092    Validation Loss: 0.1553\n",
      "Epoch: 31/50    Training Loss: 0.0090    Validation Loss: 0.1469\n",
      "Epoch: 32/50    Training Loss: 0.0088    Validation Loss: 0.1591\n",
      "Epoch: 33/50    Training Loss: 0.0087    Validation Loss: 0.1505\n",
      "Epoch: 34/50    Training Loss: 0.0084    Validation Loss: 0.1562\n",
      "Epoch: 35/50    Training Loss: 0.0078    Validation Loss: 0.1539\n",
      "Epoch: 36/50    Training Loss: 0.0079    Validation Loss: 0.1462\n",
      "Epoch: 37/50    Training Loss: 0.0074    Validation Loss: 0.1537\n",
      "Epoch: 38/50    Training Loss: 0.0075    Validation Loss: 0.1466\n",
      "Epoch: 39/50    Training Loss: 0.0071    Validation Loss: 0.1448\n",
      "Epoch: 40/50    Training Loss: 0.0068    Validation Loss: 0.1527\n",
      "Epoch: 41/50    Training Loss: 0.0069    Validation Loss: 0.1488\n",
      "Epoch: 42/50    Training Loss: 0.0071    Validation Loss: 0.1523\n",
      "Epoch: 43/50    Training Loss: 0.0065    Validation Loss: 0.1453\n",
      "Epoch: 44/50    Training Loss: 0.0064    Validation Loss: 0.1600\n",
      "Epoch: 45/50    Training Loss: 0.0062    Validation Loss: 0.1482\n",
      "Epoch: 46/50    Training Loss: 0.0062    Validation Loss: 0.1616\n",
      "Epoch: 47/50    Training Loss: 0.0057    Validation Loss: 0.1472\n",
      "Epoch: 48/50    Training Loss: 0.0053    Validation Loss: 0.1453\n",
      "Epoch: 49/50    Training Loss: 0.0101    Validation Loss: 0.1825\n",
      "Epoch: 50/50    Training Loss: 0.0091    Validation Loss: 0.1468\n"
     ]
    }
   ],
   "source": [
    "# Train the model and calculate losess for training and validation set\n",
    "\n",
    "train_losses = []\n",
    "val_losses = []\n",
    "\n",
    "iteration_losses = []\n",
    "\n",
    "for epoch in range(1, num_epochs + 1):\n",
    "    \n",
    "    # Set model to training mode\n",
    "    crnn.train()  \n",
    "\n",
    "    epoch_loss_list = []\n",
    "    num_updates_epoch = 0\n",
    "\n",
    "    for image_batch, text_batch in train_loader:\n",
    "        optimizer.zero_grad()\n",
    "\n",
    "        # Placed to device\n",
    "        text_batch_logits = crnn(image_batch.to(device))\n",
    "\n",
    "        # Compute loss\n",
    "        loss = compute_loss(text_batch, text_batch_logits)\n",
    "        iteration_loss = loss.item()\n",
    "\n",
    "        if np.isnan(iteration_loss) or np.isinf(iteration_loss):\n",
    "            print(\"Skipping bad iteration.\")\n",
    "            continue\n",
    "\n",
    "        num_updates_epoch += 1\n",
    "        iteration_losses.append(iteration_loss)\n",
    "        epoch_loss_list.append(iteration_loss)\n",
    "\n",
    "        loss.backward()\n",
    "        nn.utils.clip_grad_norm_(crnn.parameters(), clip_norm)\n",
    "        optimizer.step()\n",
    "\n",
    "    epoch_loss = np.mean(epoch_loss_list)\n",
    "    train_losses.append(epoch_loss)\n",
    "\n",
    "    # Validation phase\n",
    "    # Set model to evaluation mode\n",
    "    crnn.eval() \n",
    "    val_loss_list = []\n",
    "\n",
    "    with torch.no_grad():\n",
    "        for image_batch, text_batch in validation_loader:\n",
    "            image_batch = image_batch.to(device)\n",
    "            text_batch_logits = crnn(image_batch)\n",
    "            val_loss = compute_loss(text_batch, text_batch_logits).item()\n",
    "            val_loss_list.append(val_loss)\n",
    "\n",
    "    val_loss = np.mean(val_loss_list)\n",
    "    val_losses.append(val_loss)\n",
    "\n",
    "    # Print training and validation loss\n",
    "    print(f\"Epoch: {epoch}/{num_epochs}    Training Loss: {epoch_loss:.4f}    Validation Loss: {val_loss:.4f}\")\n",
    "\n",
    "    lr_scheduler.step(epoch_loss)"
   ]
  },
  {
   "cell_type": "markdown",
   "metadata": {},
   "source": [
    "#### Visualize the Loss of the model"
   ]
  },
  {
   "cell_type": "code",
   "execution_count": 23,
   "metadata": {},
   "outputs": [
    {
     "data": {
      "image/png": "[encoded data removed]",
      "text/plain": [
       "<Figure size 1000x600 with 1 Axes>"
      ]
     },
     "metadata": {},
     "output_type": "display_data"
    }
   ],
   "source": [
    "# Assuming epoch_losses and val_losses contain the loss values for each epoch\n",
    "\n",
    "epochs = range(1, num_epochs + 1)\n",
    "\n",
    "plt.figure(figsize=(10, 6))\n",
    "plt.plot(epochs, train_losses, label='Training Loss')\n",
    "plt.plot(epochs, val_losses, label='Validation Loss')\n",
    "plt.title('Training and Validation Loss')\n",
    "plt.xlabel('Epochs')\n",
    "plt.ylabel('Loss')\n",
    "plt.legend()\n",
    "plt.grid(True)\n",
    "plt.show()"
   ]
  },
  {
   "cell_type": "markdown",
   "metadata": {},
   "source": [
    "#### Model Evaluation"
   ]
  },
  {
   "cell_type": "code",
   "execution_count": 24,
   "metadata": {},
   "outputs": [],
   "source": [
    "# Prediction function for different dataset\n",
    "\n",
    "def preiction_results(data_loder):\n",
    "    results_df = pd.DataFrame(columns=['actual', 'prediction'])\n",
    "\n",
    "    with torch.no_grad():\n",
    "\n",
    "        for image_batch, text_batch in data_loder:\n",
    "\n",
    "            text_batch_logits = crnn(image_batch.to(device)) # [T, batch_size, num_classes==num_features]\n",
    "\n",
    "            text_batch_pred = decode_predictions(text_batch_logits.cpu())\n",
    "\n",
    "            df = pd.DataFrame(columns=['actual', 'prediction'])\n",
    "            \n",
    "            df['actual'] = text_batch\n",
    "            df['prediction'] = text_batch_pred\n",
    "            \n",
    "            results_df = pd.concat([results_df, df])\n",
    "\n",
    "    results_df = results_df.reset_index(drop=True)\n",
    "\n",
    "    return results_df"
   ]
  },
  {
   "cell_type": "code",
   "execution_count": 25,
   "metadata": {},
   "outputs": [
    {
     "name": "stdout",
     "output_type": "stream",
     "text": [
      "Shape of the train results: (855, 2)\n"
     ]
    },
    {
     "data": {
      "text/html": [
       "<div>\n",
       "<style scoped>\n",
       "    .dataframe tbody tr th:only-of-type {\n",
       "        vertical-align: middle;\n",
       "    }\n",
       "\n",
       "    .dataframe tbody tr th {\n",
       "        vertical-align: top;\n",
       "    }\n",
       "\n",
       "    .dataframe thead th {\n",
       "        text-align: right;\n",
       "    }\n",
       "</style>\n",
       "<table border=\"1\" class=\"dataframe\">\n",
       "  <thead>\n",
       "    <tr style=\"text-align: right;\">\n",
       "      <th></th>\n",
       "      <th>actual</th>\n",
       "      <th>prediction</th>\n",
       "    </tr>\n",
       "  </thead>\n",
       "  <tbody>\n",
       "    <tr>\n",
       "      <th>0</th>\n",
       "      <td>gpxng</td>\n",
       "      <td>gp----xn-g</td>\n",
       "    </tr>\n",
       "    <tr>\n",
       "      <th>1</th>\n",
       "      <td>5g5e5</td>\n",
       "      <td>5g----5e-5</td>\n",
       "    </tr>\n",
       "    <tr>\n",
       "      <th>2</th>\n",
       "      <td>gwnm6</td>\n",
       "      <td>gw----nm-6</td>\n",
       "    </tr>\n",
       "    <tr>\n",
       "      <th>3</th>\n",
       "      <td>44ype</td>\n",
       "      <td>44-4--yp-e</td>\n",
       "    </tr>\n",
       "    <tr>\n",
       "      <th>4</th>\n",
       "      <td>pmf5w</td>\n",
       "      <td>pm----f5-w</td>\n",
       "    </tr>\n",
       "  </tbody>\n",
       "</table>\n",
       "</div>"
      ],
      "text/plain": [
       "  actual  prediction\n",
       "0  gpxng  gp----xn-g\n",
       "1  5g5e5  5g----5e-5\n",
       "2  gwnm6  gw----nm-6\n",
       "3  44ype  44-4--yp-e\n",
       "4  pmf5w  pm----f5-w"
      ]
     },
     "execution_count": 25,
     "metadata": {},
     "output_type": "execute_result"
    }
   ],
   "source": [
    "# Prediction results on training set\n",
    "train_results = preiction_results(train_loader)\n",
    "\n",
    "print(f'Shape of the train results: {train_results.shape}')\n",
    "\n",
    "train_results.head()"
   ]
  },
  {
   "cell_type": "code",
   "execution_count": 26,
   "metadata": {},
   "outputs": [
    {
     "name": "stdout",
     "output_type": "stream",
     "text": [
      "Shape of the train results: (108, 2)\n"
     ]
    },
    {
     "data": {
      "text/html": [
       "<div>\n",
       "<style scoped>\n",
       "    .dataframe tbody tr th:only-of-type {\n",
       "        vertical-align: middle;\n",
       "    }\n",
       "\n",
       "    .dataframe tbody tr th {\n",
       "        vertical-align: top;\n",
       "    }\n",
       "\n",
       "    .dataframe thead th {\n",
       "        text-align: right;\n",
       "    }\n",
       "</style>\n",
       "<table border=\"1\" class=\"dataframe\">\n",
       "  <thead>\n",
       "    <tr style=\"text-align: right;\">\n",
       "      <th></th>\n",
       "      <th>actual</th>\n",
       "      <th>prediction</th>\n",
       "    </tr>\n",
       "  </thead>\n",
       "  <tbody>\n",
       "    <tr>\n",
       "      <th>0</th>\n",
       "      <td>xfgxb</td>\n",
       "      <td>xf----gx-b</td>\n",
       "    </tr>\n",
       "    <tr>\n",
       "      <th>1</th>\n",
       "      <td>bmxpe</td>\n",
       "      <td>bm----xp-e</td>\n",
       "    </tr>\n",
       "    <tr>\n",
       "      <th>2</th>\n",
       "      <td>d7en3</td>\n",
       "      <td>d7----en-3</td>\n",
       "    </tr>\n",
       "    <tr>\n",
       "      <th>3</th>\n",
       "      <td>62fgn</td>\n",
       "      <td>62----fg-n</td>\n",
       "    </tr>\n",
       "    <tr>\n",
       "      <th>4</th>\n",
       "      <td>gc277</td>\n",
       "      <td>gc----27-7</td>\n",
       "    </tr>\n",
       "  </tbody>\n",
       "</table>\n",
       "</div>"
      ],
      "text/plain": [
       "  actual  prediction\n",
       "0  xfgxb  xf----gx-b\n",
       "1  bmxpe  bm----xp-e\n",
       "2  d7en3  d7----en-3\n",
       "3  62fgn  62----fg-n\n",
       "4  gc277  gc----27-7"
      ]
     },
     "execution_count": 26,
     "metadata": {},
     "output_type": "execute_result"
    }
   ],
   "source": [
    "# Prediction results on validation set\n",
    "\n",
    "validation_results = preiction_results(validation_loader)\n",
    "\n",
    "print(f'Shape of the train results: {validation_results.shape}')\n",
    "\n",
    "validation_results.head()"
   ]
  },
  {
   "cell_type": "code",
   "execution_count": 27,
   "metadata": {},
   "outputs": [
    {
     "name": "stdout",
     "output_type": "stream",
     "text": [
      "Shape of the train results: (107, 2)\n"
     ]
    },
    {
     "data": {
      "text/html": [
       "<div>\n",
       "<style scoped>\n",
       "    .dataframe tbody tr th:only-of-type {\n",
       "        vertical-align: middle;\n",
       "    }\n",
       "\n",
       "    .dataframe tbody tr th {\n",
       "        vertical-align: top;\n",
       "    }\n",
       "\n",
       "    .dataframe thead th {\n",
       "        text-align: right;\n",
       "    }\n",
       "</style>\n",
       "<table border=\"1\" class=\"dataframe\">\n",
       "  <thead>\n",
       "    <tr style=\"text-align: right;\">\n",
       "      <th></th>\n",
       "      <th>actual</th>\n",
       "      <th>prediction</th>\n",
       "    </tr>\n",
       "  </thead>\n",
       "  <tbody>\n",
       "    <tr>\n",
       "      <th>0</th>\n",
       "      <td>w4cdc</td>\n",
       "      <td>w4----cd-c</td>\n",
       "    </tr>\n",
       "    <tr>\n",
       "      <th>1</th>\n",
       "      <td>n4xx5</td>\n",
       "      <td>n4----xx-5</td>\n",
       "    </tr>\n",
       "    <tr>\n",
       "      <th>2</th>\n",
       "      <td>e76n4</td>\n",
       "      <td>e7----6n-4</td>\n",
       "    </tr>\n",
       "    <tr>\n",
       "      <th>3</th>\n",
       "      <td>ddcdd</td>\n",
       "      <td>dd-d--cd-d</td>\n",
       "    </tr>\n",
       "    <tr>\n",
       "      <th>4</th>\n",
       "      <td>bbymy</td>\n",
       "      <td>bb----ym-y</td>\n",
       "    </tr>\n",
       "  </tbody>\n",
       "</table>\n",
       "</div>"
      ],
      "text/plain": [
       "  actual  prediction\n",
       "0  w4cdc  w4----cd-c\n",
       "1  n4xx5  n4----xx-5\n",
       "2  e76n4  e7----6n-4\n",
       "3  ddcdd  dd-d--cd-d\n",
       "4  bbymy  bb----ym-y"
      ]
     },
     "execution_count": 27,
     "metadata": {},
     "output_type": "execute_result"
    }
   ],
   "source": [
    "# Prediction results on test set\n",
    "\n",
    "test_results = preiction_results(test_loader)\n",
    "\n",
    "print(f'Shape of the train results: {test_results.shape}')\n",
    "\n",
    "test_results.head()"
   ]
  },
  {
   "cell_type": "code",
   "execution_count": 28,
   "metadata": {},
   "outputs": [],
   "source": [
    "# Remove the duplicate entries of a character\n",
    "\n",
    "def remove_duplicates(text):\n",
    "    if len(text) > 1:\n",
    "        letters = [text[0]] + [letter for idx, letter in enumerate(text[1:], start=1) if text[idx] != text[idx-1]]\n",
    "    elif len(text) == 1:\n",
    "        letters = [text[0]]\n",
    "    else:\n",
    "        return \"\"\n",
    "    return \"\".join(letters)\n",
    "\n",
    "def correct_prediction(word):\n",
    "    parts = word.split(\"-\")\n",
    "    parts = [remove_duplicates(part) for part in parts]\n",
    "    corrected_word = \"\".join(parts)\n",
    "    return corrected_word"
   ]
  },
  {
   "cell_type": "markdown",
   "metadata": {},
   "source": [
    "#### Apply post-processing"
   ]
  },
  {
   "cell_type": "code",
   "execution_count": 29,
   "metadata": {},
   "outputs": [
    {
     "data": {
      "text/html": [
       "<div>\n",
       "<style scoped>\n",
       "    .dataframe tbody tr th:only-of-type {\n",
       "        vertical-align: middle;\n",
       "    }\n",
       "\n",
       "    .dataframe tbody tr th {\n",
       "        vertical-align: top;\n",
       "    }\n",
       "\n",
       "    .dataframe thead th {\n",
       "        text-align: right;\n",
       "    }\n",
       "</style>\n",
       "<table border=\"1\" class=\"dataframe\">\n",
       "  <thead>\n",
       "    <tr style=\"text-align: right;\">\n",
       "      <th></th>\n",
       "      <th>actual</th>\n",
       "      <th>prediction</th>\n",
       "      <th>prediction_corrected</th>\n",
       "    </tr>\n",
       "  </thead>\n",
       "  <tbody>\n",
       "    <tr>\n",
       "      <th>0</th>\n",
       "      <td>gpxng</td>\n",
       "      <td>gp----xn-g</td>\n",
       "      <td>gpxng</td>\n",
       "    </tr>\n",
       "    <tr>\n",
       "      <th>1</th>\n",
       "      <td>5g5e5</td>\n",
       "      <td>5g----5e-5</td>\n",
       "      <td>5g5e5</td>\n",
       "    </tr>\n",
       "    <tr>\n",
       "      <th>2</th>\n",
       "      <td>gwnm6</td>\n",
       "      <td>gw----nm-6</td>\n",
       "      <td>gwnm6</td>\n",
       "    </tr>\n",
       "    <tr>\n",
       "      <th>3</th>\n",
       "      <td>44ype</td>\n",
       "      <td>44-4--yp-e</td>\n",
       "      <td>44ype</td>\n",
       "    </tr>\n",
       "    <tr>\n",
       "      <th>4</th>\n",
       "      <td>pmf5w</td>\n",
       "      <td>pm----f5-w</td>\n",
       "      <td>pmf5w</td>\n",
       "    </tr>\n",
       "  </tbody>\n",
       "</table>\n",
       "</div>"
      ],
      "text/plain": [
       "  actual  prediction prediction_corrected\n",
       "0  gpxng  gp----xn-g                gpxng\n",
       "1  5g5e5  5g----5e-5                5g5e5\n",
       "2  gwnm6  gw----nm-6                gwnm6\n",
       "3  44ype  44-4--yp-e                44ype\n",
       "4  pmf5w  pm----f5-w                pmf5w"
      ]
     },
     "execution_count": 29,
     "metadata": {},
     "output_type": "execute_result"
    }
   ],
   "source": [
    "# Apply the post-porcessing in traing data\n",
    "train_results['prediction_corrected'] = train_results['prediction'].apply(correct_prediction)\n",
    "train_results.head()"
   ]
  },
  {
   "cell_type": "code",
   "execution_count": 30,
   "metadata": {},
   "outputs": [
    {
     "data": {
      "text/html": [
       "<div>\n",
       "<style scoped>\n",
       "    .dataframe tbody tr th:only-of-type {\n",
       "        vertical-align: middle;\n",
       "    }\n",
       "\n",
       "    .dataframe tbody tr th {\n",
       "        vertical-align: top;\n",
       "    }\n",
       "\n",
       "    .dataframe thead th {\n",
       "        text-align: right;\n",
       "    }\n",
       "</style>\n",
       "<table border=\"1\" class=\"dataframe\">\n",
       "  <thead>\n",
       "    <tr style=\"text-align: right;\">\n",
       "      <th></th>\n",
       "      <th>actual</th>\n",
       "      <th>prediction</th>\n",
       "      <th>prediction_corrected</th>\n",
       "    </tr>\n",
       "  </thead>\n",
       "  <tbody>\n",
       "    <tr>\n",
       "      <th>0</th>\n",
       "      <td>xfgxb</td>\n",
       "      <td>xf----gx-b</td>\n",
       "      <td>xfgxb</td>\n",
       "    </tr>\n",
       "    <tr>\n",
       "      <th>1</th>\n",
       "      <td>bmxpe</td>\n",
       "      <td>bm----xp-e</td>\n",
       "      <td>bmxpe</td>\n",
       "    </tr>\n",
       "    <tr>\n",
       "      <th>2</th>\n",
       "      <td>d7en3</td>\n",
       "      <td>d7----en-3</td>\n",
       "      <td>d7en3</td>\n",
       "    </tr>\n",
       "    <tr>\n",
       "      <th>3</th>\n",
       "      <td>62fgn</td>\n",
       "      <td>62----fg-n</td>\n",
       "      <td>62fgn</td>\n",
       "    </tr>\n",
       "    <tr>\n",
       "      <th>4</th>\n",
       "      <td>gc277</td>\n",
       "      <td>gc----27-7</td>\n",
       "      <td>gc277</td>\n",
       "    </tr>\n",
       "  </tbody>\n",
       "</table>\n",
       "</div>"
      ],
      "text/plain": [
       "  actual  prediction prediction_corrected\n",
       "0  xfgxb  xf----gx-b                xfgxb\n",
       "1  bmxpe  bm----xp-e                bmxpe\n",
       "2  d7en3  d7----en-3                d7en3\n",
       "3  62fgn  62----fg-n                62fgn\n",
       "4  gc277  gc----27-7                gc277"
      ]
     },
     "execution_count": 30,
     "metadata": {},
     "output_type": "execute_result"
    }
   ],
   "source": [
    "# Apply the post-porcessing in validation data\n",
    "validation_results['prediction_corrected'] = validation_results['prediction'].apply(correct_prediction)\n",
    "validation_results.head()"
   ]
  },
  {
   "cell_type": "code",
   "execution_count": 31,
   "metadata": {},
   "outputs": [
    {
     "data": {
      "text/html": [
       "<div>\n",
       "<style scoped>\n",
       "    .dataframe tbody tr th:only-of-type {\n",
       "        vertical-align: middle;\n",
       "    }\n",
       "\n",
       "    .dataframe tbody tr th {\n",
       "        vertical-align: top;\n",
       "    }\n",
       "\n",
       "    .dataframe thead th {\n",
       "        text-align: right;\n",
       "    }\n",
       "</style>\n",
       "<table border=\"1\" class=\"dataframe\">\n",
       "  <thead>\n",
       "    <tr style=\"text-align: right;\">\n",
       "      <th></th>\n",
       "      <th>actual</th>\n",
       "      <th>prediction</th>\n",
       "      <th>prediction_corrected</th>\n",
       "    </tr>\n",
       "  </thead>\n",
       "  <tbody>\n",
       "    <tr>\n",
       "      <th>0</th>\n",
       "      <td>w4cdc</td>\n",
       "      <td>w4----cd-c</td>\n",
       "      <td>w4cdc</td>\n",
       "    </tr>\n",
       "    <tr>\n",
       "      <th>1</th>\n",
       "      <td>n4xx5</td>\n",
       "      <td>n4----xx-5</td>\n",
       "      <td>n4x5</td>\n",
       "    </tr>\n",
       "    <tr>\n",
       "      <th>2</th>\n",
       "      <td>e76n4</td>\n",
       "      <td>e7----6n-4</td>\n",
       "      <td>e76n4</td>\n",
       "    </tr>\n",
       "    <tr>\n",
       "      <th>3</th>\n",
       "      <td>ddcdd</td>\n",
       "      <td>dd-d--cd-d</td>\n",
       "      <td>ddcdd</td>\n",
       "    </tr>\n",
       "    <tr>\n",
       "      <th>4</th>\n",
       "      <td>bbymy</td>\n",
       "      <td>bb----ym-y</td>\n",
       "      <td>bymy</td>\n",
       "    </tr>\n",
       "  </tbody>\n",
       "</table>\n",
       "</div>"
      ],
      "text/plain": [
       "  actual  prediction prediction_corrected\n",
       "0  w4cdc  w4----cd-c                w4cdc\n",
       "1  n4xx5  n4----xx-5                 n4x5\n",
       "2  e76n4  e7----6n-4                e76n4\n",
       "3  ddcdd  dd-d--cd-d                ddcdd\n",
       "4  bbymy  bb----ym-y                 bymy"
      ]
     },
     "execution_count": 31,
     "metadata": {},
     "output_type": "execute_result"
    }
   ],
   "source": [
    "# Apply the post-porcessing in test data\n",
    "test_results['prediction_corrected'] = test_results['prediction'].apply(correct_prediction)\n",
    "test_results.head()"
   ]
  },
  {
   "cell_type": "markdown",
   "metadata": {},
   "source": [
    "#### Final Evaluation after post-processing"
   ]
  },
  {
   "cell_type": "code",
   "execution_count": 32,
   "metadata": {},
   "outputs": [
    {
     "data": {
      "text/html": [
       "<div>\n",
       "<style scoped>\n",
       "    .dataframe tbody tr th:only-of-type {\n",
       "        vertical-align: middle;\n",
       "    }\n",
       "\n",
       "    .dataframe tbody tr th {\n",
       "        vertical-align: top;\n",
       "    }\n",
       "\n",
       "    .dataframe thead th {\n",
       "        text-align: right;\n",
       "    }\n",
       "</style>\n",
       "<table border=\"1\" class=\"dataframe\">\n",
       "  <thead>\n",
       "    <tr style=\"text-align: right;\">\n",
       "      <th></th>\n",
       "      <th>actual</th>\n",
       "      <th>prediction</th>\n",
       "      <th>prediction_corrected</th>\n",
       "    </tr>\n",
       "  </thead>\n",
       "  <tbody>\n",
       "    <tr>\n",
       "      <th>1</th>\n",
       "      <td>n4xx5</td>\n",
       "      <td>n4----xx-5</td>\n",
       "      <td>n4x5</td>\n",
       "    </tr>\n",
       "    <tr>\n",
       "      <th>4</th>\n",
       "      <td>bbymy</td>\n",
       "      <td>bb----ym-y</td>\n",
       "      <td>bymy</td>\n",
       "    </tr>\n",
       "    <tr>\n",
       "      <th>7</th>\n",
       "      <td>yyg5g</td>\n",
       "      <td>yy-g--g55g</td>\n",
       "      <td>ygg5g</td>\n",
       "    </tr>\n",
       "    <tr>\n",
       "      <th>14</th>\n",
       "      <td>emwpn</td>\n",
       "      <td>em-----w-p</td>\n",
       "      <td>emwp</td>\n",
       "    </tr>\n",
       "    <tr>\n",
       "      <th>25</th>\n",
       "      <td>mx8bb</td>\n",
       "      <td>m------8bb</td>\n",
       "      <td>m8b</td>\n",
       "    </tr>\n",
       "  </tbody>\n",
       "</table>\n",
       "</div>"
      ],
      "text/plain": [
       "   actual  prediction prediction_corrected\n",
       "1   n4xx5  n4----xx-5                 n4x5\n",
       "4   bbymy  bb----ym-y                 bymy\n",
       "7   yyg5g  yy-g--g55g                ygg5g\n",
       "14  emwpn  em-----w-p                 emwp\n",
       "25  mx8bb  m------8bb                  m8b"
      ]
     },
     "execution_count": 32,
     "metadata": {},
     "output_type": "execute_result"
    }
   ],
   "source": [
    "# See the snapshot of wrong prediction\n",
    "mistakes_df = test_results[test_results['actual'] != test_results['prediction_corrected']]\n",
    "mistakes_df.head()"
   ]
  },
  {
   "cell_type": "code",
   "execution_count": 33,
   "metadata": {},
   "outputs": [
    {
     "name": "stdout",
     "output_type": "stream",
     "text": [
      "prediction_corrected\n",
      "4    13\n",
      "5     2\n",
      "3     2\n",
      "6     2\n",
      "Name: count, dtype: int64\n"
     ]
    }
   ],
   "source": [
    "print(mistakes_df['prediction_corrected'].str.len().value_counts())"
   ]
  },
  {
   "cell_type": "code",
   "execution_count": 34,
   "metadata": {},
   "outputs": [
    {
     "name": "stdout",
     "output_type": "stream",
     "text": [
      "--------------------------------------------------------\n",
      "Model Accuracy on training set:  0.998\n",
      "Model Accuracy on validation set:  0.815\n",
      "Model Accuracy on test set:  0.822\n",
      "--------------------------------------------------------\n"
     ]
    }
   ],
   "source": [
    "# Model accuracy\n",
    "\n",
    "train_accuracy = accuracy_score(train_results['actual'], train_results['prediction_corrected'])\n",
    "validation_accuracy = accuracy_score(validation_results['actual'], validation_results['prediction_corrected'])\n",
    "test_accuracy = accuracy_score(test_results['actual'], test_results['prediction_corrected'])\n",
    "\n",
    "print('--------------------------------------------------------')\n",
    "print(f'Model Accuracy on training set: {train_accuracy: .3f}')\n",
    "print(f'Model Accuracy on validation set: {validation_accuracy: .3f}')\n",
    "print(f'Model Accuracy on test set: {test_accuracy: .3f}')\n",
    "print('--------------------------------------------------------')"
   ]
  }
 ],
 "metadata": {
  "kernelspec": {
   "display_name": "lfi",
   "language": "python",
   "name": "python3"
  },
  "language_info": {
   "codemirror_mode": {
    "name": "ipython",
    "version": 3
   },
   "file_extension": ".py",
   "mimetype": "text/x-python",
   "name": "python",
   "nbconvert_exporter": "python",
   "pygments_lexer": "ipython3",
   "version": "3.10.6"
  }
 },
 "nbformat": 4,
 "nbformat_minor": 2
}
